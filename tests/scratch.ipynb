{
 "cells": [
  {
   "cell_type": "code",
   "execution_count": 1,
   "metadata": {},
   "outputs": [
    {
     "ename": "ImportError",
     "evalue": "cannot import name 'loss_truncation' from 'loss_library_lj' (/Users/lorenzoflores/opt/anaconda3/envs/test-loss-lib/lib/python3.9/site-packages/loss_library_lj/__init__.py)",
     "output_type": "error",
     "traceback": [
      "\u001b[0;31m---------------------------------------------------------------------------\u001b[0m",
      "\u001b[0;31mImportError\u001b[0m                               Traceback (most recent call last)",
      "Cell \u001b[0;32mIn[1], line 1\u001b[0m\n\u001b[0;32m----> 1\u001b[0m \u001b[38;5;28;01mfrom\u001b[39;00m \u001b[38;5;21;01mloss_library_lj\u001b[39;00m \u001b[38;5;28;01mimport\u001b[39;00m loss_truncation\n",
      "\u001b[0;31mImportError\u001b[0m: cannot import name 'loss_truncation' from 'loss_library_lj' (/Users/lorenzoflores/opt/anaconda3/envs/test-loss-lib/lib/python3.9/site-packages/loss_library_lj/__init__.py)"
     ]
    }
   ],
   "source": [
    "from loss_library_lj import loss_truncation"
   ]
  },
  {
   "cell_type": "code",
   "execution_count": null,
   "metadata": {},
   "outputs": [],
   "source": []
  }
 ],
 "metadata": {
  "kernelspec": {
   "display_name": "Python 3",
   "language": "python",
   "name": "python3"
  },
  "language_info": {
   "codemirror_mode": {
    "name": "ipython",
    "version": 3
   },
   "file_extension": ".py",
   "mimetype": "text/x-python",
   "name": "python",
   "nbconvert_exporter": "python",
   "pygments_lexer": "ipython3",
   "version": "3.9.18"
  }
 },
 "nbformat": 4,
 "nbformat_minor": 2
}
