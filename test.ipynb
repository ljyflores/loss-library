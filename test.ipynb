{
 "cells": [
  {
   "cell_type": "code",
   "execution_count": 1,
   "metadata": {},
   "outputs": [
    {
     "name": "stdout",
     "output_type": "stream",
     "text": [
      "zsh:1: command not found: poetry\n"
     ]
    }
   ],
   "source": [
    "!poetry shell"
   ]
  },
  {
   "cell_type": "code",
   "execution_count": 1,
   "metadata": {},
   "outputs": [
    {
     "name": "stdout",
     "output_type": "stream",
     "text": [
      "Requirement already satisfied: loss_library in /Users/lorenzoflores/opt/anaconda3/envs/poetry/lib/python3.9/site-packages (0.1.0)\n",
      "Collecting en_core_sci_lg@ https://s3-us-west-2.amazonaws.com/ai2-s2-scispacy/releases/v0.5.3/en_core_sci_lg-0.5.3.tar.gz (from loss_library)\n",
      "  Using cached https://s3-us-west-2.amazonaws.com/ai2-s2-scispacy/releases/v0.5.3/en_core_sci_lg-0.5.3.tar.gz (531.2 MB)\n",
      "  Preparing metadata (setup.py) ... \u001b[?25ldone\n",
      "\u001b[?25hCollecting en_core_web_lg@ https://github.com/explosion/spacy-models/releases/download/en_core_web_lg-3.6.0/en_core_web_lg-3.6.0-py3-none-any.whl (from loss_library)\n",
      "  Downloading https://github.com/explosion/spacy-models/releases/download/en_core_web_lg-3.6.0/en_core_web_lg-3.6.0-py3-none-any.whl (587.7 MB)\n",
      "\u001b[2K     \u001b[90m━━━━━━━━━━━━━━━━━━━━━━━━━━━━━━━━━━━━━━━\u001b[0m \u001b[32m587.7/587.7 MB\u001b[0m \u001b[31m2.9 MB/s\u001b[0m eta \u001b[36m0:00:00\u001b[0m00:01\u001b[0m00:01\u001b[0m\n",
      "\u001b[?25hRequirement already satisfied: nmslib==2.1.1 in /Users/lorenzoflores/opt/anaconda3/envs/poetry/lib/python3.9/site-packages (from loss_library) (2.1.1)\n",
      "Requirement already satisfied: numpy<2.0.0,>=1.26.3 in /Users/lorenzoflores/opt/anaconda3/envs/poetry/lib/python3.9/site-packages (from loss_library) (1.26.3)\n",
      "Requirement already satisfied: pandas<3.0.0,>=2.1.4 in /Users/lorenzoflores/opt/anaconda3/envs/poetry/lib/python3.9/site-packages (from loss_library) (2.1.4)\n",
      "Requirement already satisfied: scispacy<0.6.0,>=0.5.3 in /Users/lorenzoflores/opt/anaconda3/envs/poetry/lib/python3.9/site-packages (from loss_library) (0.5.3)\n",
      "Requirement already satisfied: spacy==3.6.1 in /Users/lorenzoflores/opt/anaconda3/envs/poetry/lib/python3.9/site-packages (from loss_library) (3.6.1)\n",
      "Requirement already satisfied: torch<3.0.0,>=2.1.2 in /Users/lorenzoflores/opt/anaconda3/envs/poetry/lib/python3.9/site-packages (from loss_library) (2.1.2)\n",
      "Requirement already satisfied: transformers<5.0.0,>=4.36.2 in /Users/lorenzoflores/opt/anaconda3/envs/poetry/lib/python3.9/site-packages (from loss_library) (4.36.2)\n",
      "Requirement already satisfied: pybind11<2.6.2 in /Users/lorenzoflores/opt/anaconda3/envs/poetry/lib/python3.9/site-packages (from nmslib==2.1.1->loss_library) (2.6.1)\n",
      "Requirement already satisfied: psutil in /Users/lorenzoflores/opt/anaconda3/envs/poetry/lib/python3.9/site-packages (from nmslib==2.1.1->loss_library) (5.9.7)\n",
      "Requirement already satisfied: spacy-legacy<3.1.0,>=3.0.11 in /Users/lorenzoflores/opt/anaconda3/envs/poetry/lib/python3.9/site-packages (from spacy==3.6.1->loss_library) (3.0.12)\n",
      "Requirement already satisfied: spacy-loggers<2.0.0,>=1.0.0 in /Users/lorenzoflores/opt/anaconda3/envs/poetry/lib/python3.9/site-packages (from spacy==3.6.1->loss_library) (1.0.5)\n",
      "Requirement already satisfied: murmurhash<1.1.0,>=0.28.0 in /Users/lorenzoflores/opt/anaconda3/envs/poetry/lib/python3.9/site-packages (from spacy==3.6.1->loss_library) (1.0.10)\n",
      "Requirement already satisfied: cymem<2.1.0,>=2.0.2 in /Users/lorenzoflores/opt/anaconda3/envs/poetry/lib/python3.9/site-packages (from spacy==3.6.1->loss_library) (2.0.8)\n",
      "Requirement already satisfied: preshed<3.1.0,>=3.0.2 in /Users/lorenzoflores/opt/anaconda3/envs/poetry/lib/python3.9/site-packages (from spacy==3.6.1->loss_library) (3.0.9)\n",
      "Requirement already satisfied: thinc<8.2.0,>=8.1.8 in /Users/lorenzoflores/opt/anaconda3/envs/poetry/lib/python3.9/site-packages (from spacy==3.6.1->loss_library) (8.1.12)\n",
      "Requirement already satisfied: wasabi<1.2.0,>=0.9.1 in /Users/lorenzoflores/opt/anaconda3/envs/poetry/lib/python3.9/site-packages (from spacy==3.6.1->loss_library) (1.1.2)\n",
      "Requirement already satisfied: srsly<3.0.0,>=2.4.3 in /Users/lorenzoflores/opt/anaconda3/envs/poetry/lib/python3.9/site-packages (from spacy==3.6.1->loss_library) (2.4.8)\n",
      "Requirement already satisfied: catalogue<2.1.0,>=2.0.6 in /Users/lorenzoflores/opt/anaconda3/envs/poetry/lib/python3.9/site-packages (from spacy==3.6.1->loss_library) (2.0.10)\n",
      "Requirement already satisfied: typer<0.10.0,>=0.3.0 in /Users/lorenzoflores/opt/anaconda3/envs/poetry/lib/python3.9/site-packages (from spacy==3.6.1->loss_library) (0.9.0)\n",
      "Requirement already satisfied: pathy>=0.10.0 in /Users/lorenzoflores/opt/anaconda3/envs/poetry/lib/python3.9/site-packages (from spacy==3.6.1->loss_library) (0.11.0)\n",
      "Requirement already satisfied: smart-open<7.0.0,>=5.2.1 in /Users/lorenzoflores/opt/anaconda3/envs/poetry/lib/python3.9/site-packages (from spacy==3.6.1->loss_library) (6.4.0)\n",
      "Requirement already satisfied: tqdm<5.0.0,>=4.38.0 in /Users/lorenzoflores/opt/anaconda3/envs/poetry/lib/python3.9/site-packages (from spacy==3.6.1->loss_library) (4.66.1)\n",
      "Requirement already satisfied: requests<3.0.0,>=2.13.0 in /Users/lorenzoflores/opt/anaconda3/envs/poetry/lib/python3.9/site-packages (from spacy==3.6.1->loss_library) (2.31.0)\n",
      "Requirement already satisfied: pydantic!=1.8,!=1.8.1,<3.0.0,>=1.7.4 in /Users/lorenzoflores/opt/anaconda3/envs/poetry/lib/python3.9/site-packages (from spacy==3.6.1->loss_library) (2.5.3)\n",
      "Requirement already satisfied: jinja2 in /Users/lorenzoflores/opt/anaconda3/envs/poetry/lib/python3.9/site-packages (from spacy==3.6.1->loss_library) (3.1.3)\n",
      "Requirement already satisfied: setuptools in /Users/lorenzoflores/opt/anaconda3/envs/poetry/lib/python3.9/site-packages (from spacy==3.6.1->loss_library) (69.0.3)\n",
      "Requirement already satisfied: packaging>=20.0 in /Users/lorenzoflores/opt/anaconda3/envs/poetry/lib/python3.9/site-packages (from spacy==3.6.1->loss_library) (23.2)\n",
      "Requirement already satisfied: langcodes<4.0.0,>=3.2.0 in /Users/lorenzoflores/opt/anaconda3/envs/poetry/lib/python3.9/site-packages (from spacy==3.6.1->loss_library) (3.3.0)\n",
      "Requirement already satisfied: python-dateutil>=2.8.2 in /Users/lorenzoflores/opt/anaconda3/envs/poetry/lib/python3.9/site-packages (from pandas<3.0.0,>=2.1.4->loss_library) (2.8.2)\n",
      "Requirement already satisfied: pytz>=2020.1 in /Users/lorenzoflores/opt/anaconda3/envs/poetry/lib/python3.9/site-packages (from pandas<3.0.0,>=2.1.4->loss_library) (2023.3.post1)\n",
      "Requirement already satisfied: tzdata>=2022.1 in /Users/lorenzoflores/opt/anaconda3/envs/poetry/lib/python3.9/site-packages (from pandas<3.0.0,>=2.1.4->loss_library) (2023.4)\n",
      "Requirement already satisfied: scipy<1.11 in /Users/lorenzoflores/opt/anaconda3/envs/poetry/lib/python3.9/site-packages (from scispacy<0.6.0,>=0.5.3->loss_library) (1.6.1)\n",
      "Requirement already satisfied: conllu in /Users/lorenzoflores/opt/anaconda3/envs/poetry/lib/python3.9/site-packages (from scispacy<0.6.0,>=0.5.3->loss_library) (4.5.3)\n",
      "Requirement already satisfied: joblib in /Users/lorenzoflores/opt/anaconda3/envs/poetry/lib/python3.9/site-packages (from scispacy<0.6.0,>=0.5.3->loss_library) (1.3.2)\n",
      "Requirement already satisfied: scikit-learn>=0.20.3 in /Users/lorenzoflores/opt/anaconda3/envs/poetry/lib/python3.9/site-packages (from scispacy<0.6.0,>=0.5.3->loss_library) (1.3.2)\n",
      "Requirement already satisfied: pysbd in /Users/lorenzoflores/opt/anaconda3/envs/poetry/lib/python3.9/site-packages (from scispacy<0.6.0,>=0.5.3->loss_library) (0.3.4)\n",
      "Requirement already satisfied: filelock in /Users/lorenzoflores/opt/anaconda3/envs/poetry/lib/python3.9/site-packages (from torch<3.0.0,>=2.1.2->loss_library) (3.13.1)\n",
      "Requirement already satisfied: typing-extensions in /Users/lorenzoflores/opt/anaconda3/envs/poetry/lib/python3.9/site-packages (from torch<3.0.0,>=2.1.2->loss_library) (4.9.0)\n",
      "Requirement already satisfied: sympy in /Users/lorenzoflores/opt/anaconda3/envs/poetry/lib/python3.9/site-packages (from torch<3.0.0,>=2.1.2->loss_library) (1.12)\n",
      "Requirement already satisfied: networkx in /Users/lorenzoflores/opt/anaconda3/envs/poetry/lib/python3.9/site-packages (from torch<3.0.0,>=2.1.2->loss_library) (3.2.1)\n",
      "Requirement already satisfied: fsspec in /Users/lorenzoflores/opt/anaconda3/envs/poetry/lib/python3.9/site-packages (from torch<3.0.0,>=2.1.2->loss_library) (2023.12.2)\n",
      "Requirement already satisfied: huggingface-hub<1.0,>=0.19.3 in /Users/lorenzoflores/opt/anaconda3/envs/poetry/lib/python3.9/site-packages (from transformers<5.0.0,>=4.36.2->loss_library) (0.20.2)\n",
      "Requirement already satisfied: pyyaml>=5.1 in /Users/lorenzoflores/opt/anaconda3/envs/poetry/lib/python3.9/site-packages (from transformers<5.0.0,>=4.36.2->loss_library) (6.0.1)\n",
      "Requirement already satisfied: regex!=2019.12.17 in /Users/lorenzoflores/opt/anaconda3/envs/poetry/lib/python3.9/site-packages (from transformers<5.0.0,>=4.36.2->loss_library) (2023.12.25)\n",
      "Requirement already satisfied: tokenizers<0.19,>=0.14 in /Users/lorenzoflores/opt/anaconda3/envs/poetry/lib/python3.9/site-packages (from transformers<5.0.0,>=4.36.2->loss_library) (0.15.0)\n",
      "Requirement already satisfied: safetensors>=0.3.1 in /Users/lorenzoflores/opt/anaconda3/envs/poetry/lib/python3.9/site-packages (from transformers<5.0.0,>=4.36.2->loss_library) (0.4.1)\n",
      "Requirement already satisfied: pathlib-abc==0.1.1 in /Users/lorenzoflores/opt/anaconda3/envs/poetry/lib/python3.9/site-packages (from pathy>=0.10.0->spacy==3.6.1->loss_library) (0.1.1)\n",
      "Requirement already satisfied: annotated-types>=0.4.0 in /Users/lorenzoflores/opt/anaconda3/envs/poetry/lib/python3.9/site-packages (from pydantic!=1.8,!=1.8.1,<3.0.0,>=1.7.4->spacy==3.6.1->loss_library) (0.6.0)\n",
      "Requirement already satisfied: pydantic-core==2.14.6 in /Users/lorenzoflores/opt/anaconda3/envs/poetry/lib/python3.9/site-packages (from pydantic!=1.8,!=1.8.1,<3.0.0,>=1.7.4->spacy==3.6.1->loss_library) (2.14.6)\n",
      "Requirement already satisfied: six>=1.5 in /Users/lorenzoflores/opt/anaconda3/envs/poetry/lib/python3.9/site-packages (from python-dateutil>=2.8.2->pandas<3.0.0,>=2.1.4->loss_library) (1.16.0)\n",
      "Requirement already satisfied: charset-normalizer<4,>=2 in /Users/lorenzoflores/opt/anaconda3/envs/poetry/lib/python3.9/site-packages (from requests<3.0.0,>=2.13.0->spacy==3.6.1->loss_library) (3.3.2)\n",
      "Requirement already satisfied: idna<4,>=2.5 in /Users/lorenzoflores/opt/anaconda3/envs/poetry/lib/python3.9/site-packages (from requests<3.0.0,>=2.13.0->spacy==3.6.1->loss_library) (3.6)\n",
      "Requirement already satisfied: urllib3<3,>=1.21.1 in /Users/lorenzoflores/opt/anaconda3/envs/poetry/lib/python3.9/site-packages (from requests<3.0.0,>=2.13.0->spacy==3.6.1->loss_library) (2.1.0)\n",
      "Requirement already satisfied: certifi>=2017.4.17 in /Users/lorenzoflores/opt/anaconda3/envs/poetry/lib/python3.9/site-packages (from requests<3.0.0,>=2.13.0->spacy==3.6.1->loss_library) (2023.11.17)\n",
      "Requirement already satisfied: threadpoolctl>=2.0.0 in /Users/lorenzoflores/opt/anaconda3/envs/poetry/lib/python3.9/site-packages (from scikit-learn>=0.20.3->scispacy<0.6.0,>=0.5.3->loss_library) (3.2.0)\n",
      "Requirement already satisfied: blis<0.8.0,>=0.7.8 in /Users/lorenzoflores/opt/anaconda3/envs/poetry/lib/python3.9/site-packages (from thinc<8.2.0,>=8.1.8->spacy==3.6.1->loss_library) (0.7.11)\n",
      "Requirement already satisfied: confection<1.0.0,>=0.0.1 in /Users/lorenzoflores/opt/anaconda3/envs/poetry/lib/python3.9/site-packages (from thinc<8.2.0,>=8.1.8->spacy==3.6.1->loss_library) (0.1.4)\n",
      "Requirement already satisfied: click<9.0.0,>=7.1.1 in /Users/lorenzoflores/opt/anaconda3/envs/poetry/lib/python3.9/site-packages (from typer<0.10.0,>=0.3.0->spacy==3.6.1->loss_library) (8.1.7)\n",
      "Requirement already satisfied: MarkupSafe>=2.0 in /Users/lorenzoflores/opt/anaconda3/envs/poetry/lib/python3.9/site-packages (from jinja2->spacy==3.6.1->loss_library) (2.1.3)\n",
      "Requirement already satisfied: mpmath>=0.19 in /Users/lorenzoflores/opt/anaconda3/envs/poetry/lib/python3.9/site-packages (from sympy->torch<3.0.0,>=2.1.2->loss_library) (1.3.0)\n",
      "\u001b[33mWARNING: Error parsing direct_url.json for en-core-sci-lg: invalid archive_info.hash format: 'sha256:df78175e425965fd4131a0b66fddaaaa21ee8515c773794e721100679a30d9b2'\u001b[0m\u001b[33m\n",
      "\u001b[0m\u001b[33mWARNING: Error parsing direct_url.json for en-core-web-lg: invalid archive_info.hash format: 'sha256:9012584a8fcf5bc61bedb13a4b511fb81ffff9f770958ee06366671be10632e9'\u001b[0m\u001b[33m\n",
      "\u001b[0m"
     ]
    }
   ],
   "source": [
    "!pip install loss_library"
   ]
  },
  {
   "cell_type": "code",
   "execution_count": 2,
   "metadata": {},
   "outputs": [
    {
     "ename": "ModuleNotFoundError",
     "evalue": "No module named 'loss_library'",
     "output_type": "error",
     "traceback": [
      "\u001b[0;31m---------------------------------------------------------------------------\u001b[0m",
      "\u001b[0;31mModuleNotFoundError\u001b[0m                       Traceback (most recent call last)",
      "Cell \u001b[0;32mIn[2], line 1\u001b[0m\n\u001b[0;32m----> 1\u001b[0m \u001b[38;5;28;01mimport\u001b[39;00m \u001b[38;5;21;01mloss_library\u001b[39;00m\n",
      "\u001b[0;31mModuleNotFoundError\u001b[0m: No module named 'loss_library'"
     ]
    }
   ],
   "source": [
    "import loss_library"
   ]
  },
  {
   "cell_type": "code",
   "execution_count": 3,
   "metadata": {},
   "outputs": [
    {
     "data": {
      "text/plain": [
       "<module 'loss_library' from '/Users/lorenzoflores/Documents/GitHub/loss-library/loss_library/loss_library/__init__.py'>"
      ]
     },
     "execution_count": 3,
     "metadata": {},
     "output_type": "execute_result"
    }
   ],
   "source": [
    "loss_library\n"
   ]
  },
  {
   "cell_type": "code",
   "execution_count": null,
   "metadata": {},
   "outputs": [],
   "source": []
  }
 ],
 "metadata": {
  "kernelspec": {
   "display_name": "Python 3",
   "language": "python",
   "name": "python3"
  },
  "language_info": {
   "codemirror_mode": {
    "name": "ipython",
    "version": 3
   },
   "file_extension": ".py",
   "mimetype": "text/x-python",
   "name": "python",
   "nbconvert_exporter": "python",
   "pygments_lexer": "ipython3",
   "version": "3.9.18"
  }
 },
 "nbformat": 4,
 "nbformat_minor": 2
}
